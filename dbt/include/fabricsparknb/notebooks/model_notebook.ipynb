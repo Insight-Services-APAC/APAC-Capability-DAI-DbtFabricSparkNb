{
 "cells": [
  {
   "cell_type": "markdown",
   "metadata": {},
   "source": [
    "[comment]: # (Attach Default Lakehouse Markdown Cell)\n",
    "# 📌 Attach Default Lakehouse\n",
    "❗**Note the code in the cell that follows is required to programatically attach the lakehouse and enable the running of spark.sql(). If this cell fails simply restart your session as this cell MUST be the first command executed on session start.**"
   ]
  },
  {
   "cell_type": "code",
   "execution_count": null,
   "metadata": {},
   "outputs": [],
   "source": [
    "%%configure\n",
    "{\n",
    "    \"defaultLakehouse\": {  \n",
    "        \"name\": \"{{lakehouse_name}}\",\n",
    "    }\n",
    "}"
   ]
  },
  {
   "cell_type": "markdown",
   "metadata": {},
   "source": [
    "# 📦 Pip\n",
    "Pip installs reqired specifically for this template should occur here"
   ]
  },
  {
   "cell_type": "code",
   "execution_count": null,
   "metadata": {},
   "outputs": [],
   "source": [
    "# No pip installs needed for this notebook"
   ]
  },
  {
   "cell_type": "markdown",
   "metadata": {},
   "source": [
    "# 🔗 Imports"
   ]
  },
  {
   "cell_type": "code",
   "execution_count": null,
   "metadata": {},
   "outputs": [],
   "source": [
    "from notebookutils import mssparkutils # type: ignore"
   ]
  },
  {
   "cell_type": "markdown",
   "metadata": {},
   "source": [
    "# #️⃣ Functions"
   ]
  },
  {
   "cell_type": "code",
   "execution_count": null,
   "metadata": {},
   "outputs": [],
   "source": [
    "def pre_execute_notebook(notebook_file):\n",
    "\n",
    "    try:\n",
    "        mssparkutils.notebook.run(notebook_file)\n",
    "        status = 'PreExecute Notebook Executed'\n",
    "        error = None\n",
    "    except Exception as e:\n",
    "        status = 'No PreExecute Notebook Found'\n",
    "        error = str(e)\n",
    "\n",
    "    return status\n",
    "\n",
    "def post_execute_notebook(notebook_file):\n",
    "\n",
    "    try:\n",
    "        mssparkutils.notebook.run(notebook_file)\n",
    "        status = 'PostExecute Notebook Executed'\n",
    "        error = None\n",
    "    except Exception as e:\n",
    "        status = 'No PostExecute Notebook Found'\n",
    "        error = str(e)\n",
    "\n",
    "    return status"
   ]
  },
  {
   "cell_type": "markdown",
   "metadata": {},
   "source": [
    "# Declare and Execute Pre-Execution Notebook"
   ]
  },
  {
   "cell_type": "code",
   "execution_count": null,
   "metadata": {},
   "outputs": [],
   "source": [
    "#Read the context of the notebook\n",
    "notebook_info = mssparkutils.runtime.context\n",
    "\n",
    "# Extract the currentNotebookName from the dictionary\n",
    "current_notebook_name = notebook_info.get(\"currentNotebookName\")"
   ]
  },
  {
   "cell_type": "code",
   "execution_count": null,
   "metadata": {},
   "outputs": [],
   "source": [
    "# Execute Pre-Execute Notebook\n",
    "preexecute_notebook_name  = current_notebook_name+ \".preexecute\"\n",
    "pre_execute_notebook(preexecute_notebook_name)"
   ]
  },
  {
   "cell_type": "markdown",
   "metadata": {},
   "source": [
    "# Declare and Execute SQL Statements"
   ]
  },
  {
   "cell_type": "markdown",
   "metadata": {},
   "source": [
    "# 🛑 Execution Stop"
   ]
  },
  {
   "cell_type": "code",
   "execution_count": null,
   "metadata": {},
   "outputs": [],
   "source": [
    "# Execute Post-Execute Notebook\n",
    "postexecute_notebook_name  = current_notebook_name + \".postexecute\"\n",
    "post_execute_notebook(postexecute_notebook_name)"
   ]
  },
  {
   "cell_type": "code",
   "execution_count": null,
   "metadata": {},
   "outputs": [],
   "source": [
    "#Exit to prevent spark sql debug cell running \n",
    "mssparkutils.notebook.exit(\"value string\")"
   ]
  },
  {
   "cell_type": "markdown",
   "metadata": {},
   "source": [
    "# SPARK SQL Cells for Debugging"
   ]
  }
 ],
 "metadata": {
  "language_info": {
   "name": "python"
  }
 },
 "nbformat": 4,
 "nbformat_minor": 2
}
